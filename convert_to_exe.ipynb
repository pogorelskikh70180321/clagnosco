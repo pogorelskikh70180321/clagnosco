{
 "cells": [
  {
   "cell_type": "code",
   "execution_count": null,
   "id": "64503eaf",
   "metadata": {},
   "outputs": [],
   "source": [
    "# Программа для создания исполняемого файла проекта Clagnosco с помощью PyInstaller\n",
    "\n",
    "!python -m pip install pyinstaller"
   ]
  },
  {
   "cell_type": "code",
   "execution_count": null,
   "id": "1dc2a3af",
   "metadata": {},
   "outputs": [],
   "source": [
    "# !python -m PyInstaller \\\n",
    "#     --name Clagnosco \\\n",
    "#     --noconsole \\\n",
    "#     --onefile \\\n",
    "#     --icon=webui/static/images/clagnosco.ico \\\n",
    "#     --add-data \"dataset.py;.\" \\\n",
    "#     --add-data \"autoencoder.py;.\" \\\n",
    "#     --add-data \"cluster.py;.\" \\\n",
    "#     --add-data \"webui.py;.\" \\\n",
    "#     --add-data \"requirements.txt;.\" \\\n",
    "#     --add-data \"webui;webui\" \\\n",
    "#     tk_run.py"
   ]
  },
  {
   "cell_type": "code",
   "execution_count": null,
   "id": "50859505",
   "metadata": {},
   "outputs": [],
   "source": [
    "import os\n",
    "import sys\n",
    "import PyInstaller.__main__\n",
    "import tkinter\n",
    "\n",
    "# Для tkinter нужны Tcl и Tk DLL\n",
    "def find_dir(root, name):\n",
    "    for dirpath, dirnames, _ in os.walk(root):\n",
    "        for d in dirnames:\n",
    "            if d.lower() == name.lower():\n",
    "                return os.path.join(dirpath, d)\n",
    "    return None\n",
    "\n",
    "prefix = sys.exec_prefix\n",
    "\n",
    "tk_root = tkinter.Tk()\n",
    "tcl_dir = tkinter.Tcl().eval('info library')\n",
    "tk_root.destroy()\n",
    "\n",
    "if os.path.basename(tcl_dir).lower() != 'tcl8.6':\n",
    "    tcl_dir = find_dir(prefix, 'tcl8.6')\n",
    "tk_dir = find_dir(prefix, 'tk8.6')\n",
    "\n",
    "if not os.path.isdir(tcl_dir):\n",
    "    raise FileNotFoundError(f\"Tcl не найден: {tcl_dir}\")\n",
    "if not os.path.isdir(tk_dir):\n",
    "    raise FileNotFoundError(f\"Tk не найден: {tk_dir}\")\n",
    "\n",
    "lib_bin = os.path.join(prefix, 'Library', 'bin')\n",
    "needed_dlls = ['tcl86t.dll', 'tk86t.dll']\n",
    "\n",
    "dll_binaries = []\n",
    "for dll_name in needed_dlls:\n",
    "    dll_path = os.path.join(lib_bin, dll_name)\n",
    "    if os.path.isfile(dll_path):\n",
    "        dll_binaries.append(f'{dll_path};.')\n",
    "\n",
    "if not dll_binaries:\n",
    "    print(\"Нужные DLL для Tcl и Tk не найдены в Library/bin\")\n",
    "\n",
    "icon_path = os.path.abspath(\"webui/static/images/clagnosco.ico\")\n",
    "\n",
    "args = [\n",
    "    '--name=Clagnosco',\n",
    "    '--noconsole',\n",
    "    '--onefile',\n",
    "    # f'--icon={icon_path}',\n",
    "    f'--add-binary={tcl_dir};tcl',\n",
    "    f'--add-binary={tk_dir};tk',\n",
    "    *[f'--add-binary={b}' for b in dll_binaries],\n",
    "    '--add-data=dataset.py;.',\n",
    "    '--add-data=autoencoder.py;.',\n",
    "    '--add-data=cluster.py;.',\n",
    "    '--add-data=webui.py;.',\n",
    "    '--add-data=requirements.txt;.',\n",
    "    '--add-data=webui;webui',\n",
    "    'tk_run.py'\n",
    "]"
   ]
  },
  {
   "cell_type": "code",
   "execution_count": null,
   "id": "967e47a9",
   "metadata": {},
   "outputs": [],
   "source": [
    "PyInstaller.__main__.run(args)"
   ]
  }
 ],
 "metadata": {
  "kernelspec": {
   "display_name": "xgen",
   "language": "python",
   "name": "python3"
  },
  "language_info": {
   "codemirror_mode": {
    "name": "ipython",
    "version": 3
   },
   "file_extension": ".py",
   "mimetype": "text/x-python",
   "name": "python",
   "nbconvert_exporter": "python",
   "pygments_lexer": "ipython3",
   "version": "3.11.11"
  }
 },
 "nbformat": 4,
 "nbformat_minor": 5
}
