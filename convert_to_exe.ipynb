{
 "cells": [
  {
   "cell_type": "code",
   "execution_count": 1,
   "id": "64503eaf",
   "metadata": {},
   "outputs": [
    {
     "name": "stdout",
     "output_type": "stream",
     "text": [
      "Requirement already satisfied: pyinstaller in c:\\users\\admin\\.conda\\envs\\xgen\\lib\\site-packages (6.14.1)\n",
      "Requirement already satisfied: setuptools>=42.0.0 in c:\\users\\admin\\.conda\\envs\\xgen\\lib\\site-packages (from pyinstaller) (75.8.0)\n",
      "Requirement already satisfied: altgraph in c:\\users\\admin\\.conda\\envs\\xgen\\lib\\site-packages (from pyinstaller) (0.17.4)\n",
      "Requirement already satisfied: pefile!=2024.8.26,>=2022.5.30 in c:\\users\\admin\\.conda\\envs\\xgen\\lib\\site-packages (from pyinstaller) (2023.2.7)\n",
      "Requirement already satisfied: pywin32-ctypes>=0.2.1 in c:\\users\\admin\\.conda\\envs\\xgen\\lib\\site-packages (from pyinstaller) (0.2.3)\n",
      "Requirement already satisfied: pyinstaller-hooks-contrib>=2025.4 in c:\\users\\admin\\.conda\\envs\\xgen\\lib\\site-packages (from pyinstaller) (2025.5)\n",
      "Requirement already satisfied: packaging>=22.0 in c:\\users\\admin\\appdata\\roaming\\python\\python311\\site-packages (from pyinstaller) (24.0)\n"
     ]
    }
   ],
   "source": [
    "# Программа для создания исполняемого файла проекта Clagnosco с помощью PyInstaller\n",
    "\n",
    "!pip install pyinstaller"
   ]
  },
  {
   "cell_type": "code",
   "execution_count": null,
   "id": "cea04b0e",
   "metadata": {},
   "outputs": [],
   "source": [
    "!pyinstaller \\\n",
    "    --name Clagnosco \\\n",
    "    --noconsole \\\n",
    "    --onefile \\\n",
    "    --icon=webui/static/images/clagnosco.ico \\\n",
    "    --add-data \"dataset.py;.\" \\\n",
    "    --add-data \"autoencoder.py;.\" \\\n",
    "    --add-data \"cluster.py;.\" \\\n",
    "    --add-data \"requirements.txt;.\" \\\n",
    "    --add-data \"webui;webui\" \\\n",
    "    webui.py"
   ]
  }
 ],
 "metadata": {
  "kernelspec": {
   "display_name": "xgen",
   "language": "python",
   "name": "python3"
  },
  "language_info": {
   "codemirror_mode": {
    "name": "ipython",
    "version": 3
   },
   "file_extension": ".py",
   "mimetype": "text/x-python",
   "name": "python",
   "nbconvert_exporter": "python",
   "pygments_lexer": "ipython3",
   "version": "3.11.11"
  }
 },
 "nbformat": 4,
 "nbformat_minor": 5
}
