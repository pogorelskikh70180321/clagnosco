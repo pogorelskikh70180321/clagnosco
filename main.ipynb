{
 "cells": [
  {
   "cell_type": "markdown",
   "metadata": {
    "id": "zYAjyqL_n5Kj"
   },
   "source": [
    "## Clagnosco - Классификация изображений (версия для Google Colab)"
   ]
  },
  {
   "cell_type": "markdown",
   "metadata": {
    "id": "dAFwp5S7r_Q0"
   },
   "source": [
    "Информация о проекте:\n",
    "\n",
    "* ФИО автора: Погорельских Константин Владимирович\n",
    "\n",
    "* Тема ВКР: «Классификация изображений с помощью искусственного интеллекта (на примере Частного образовательного учреждения высшего образования «Московский университет имени С.Ю. Витте»).»\n",
    "\n",
    "* ВУЗ: ЧОУ ВО «Московский университет им. С.Ю. Витте»\n",
    "\n",
    "* Специальность: Прикладная информатика [09.03.03] Бакалавр\n",
    "\n",
    "* Факультет: Информационных технологий\n",
    "\n",
    "* Специализация / Профиль подготовки: Искусственный интеллект и анализ данных\n",
    "\n",
    "* Учебная группа: ИД 23.3/Б3-21\n",
    "\n"
   ]
  },
  {
   "cell_type": "markdown",
   "metadata": {
    "id": "HHipdKSy5x7g"
   },
   "source": [
    "# Импорт из GitHub https://github.com/pogorzelskich/clagnosco.git"
   ]
  },
  {
   "cell_type": "code",
   "execution_count": null,
   "metadata": {
    "id": "jdjt8o615wI5"
   },
   "outputs": [],
   "source": [
    "# Информация о проекте:\n",
    "#  ФИО автора: Погорельских Константин Владимирович\n",
    "#  Тема ВКР: «Классификация изображений с помощью искусственного интеллекта (на примере Частного образовательного учреждения высшего образования «Московский университет имени С.Ю. Витте»).»\n",
    "#  ВУЗ: ЧОУ ВО «Московский университет им. С.Ю. Витте»\n",
    "#  Специальность: Прикладная информатика [09.03.03] Бакалавр\n",
    "#  Факультет: Информационных технологий\n",
    "#  Специализация / Профиль подготовки: Искусственный интеллект и анализ данных\n",
    "#  Учебная группа: ИД 23.3/Б3-21\n",
    "\n",
    "import os\n",
    "import shutil\n",
    "\n",
    "filename = \"webui.py\"\n",
    "repo_url = \"https://github.com/pogorzelskich/clagnosco.git\"\n",
    "temp_dir = \"_tmp_repo\"\n",
    "\n",
    "!pip install torchmetrics flask kneed  # pyinstaller\n",
    "\n",
    "if not os.path.exists(filename):\n",
    "    # Клонирование проекта\n",
    "    !git clone {repo_url} {temp_dir}\n",
    "\n",
    "    # Копирование содержимого в текущую папку\n",
    "    for item in os.listdir(temp_dir):\n",
    "        src = os.path.join(temp_dir, item)\n",
    "        dst = os.path.join(\".\", item)\n",
    "        if os.path.isdir(src):\n",
    "            shutil.copytree(src, dst, dirs_exist_ok=True)\n",
    "        else:\n",
    "            shutil.copy2(src, dst)\n",
    "\n",
    "\n",
    "    # Удаление временной папки\n",
    "    shutil.rmtree(temp_dir)\n",
    "    print(\"Clagnosco загружен\")\n"
   ]
  },
  {
   "cell_type": "code",
   "execution_count": null,
   "metadata": {
    "id": "SJUivl7giB1m"
   },
   "outputs": [],
   "source": [
    "# Картинки для примера\n",
    "import requests\n",
    "import zipfile\n",
    "import os\n",
    "\n",
    "url = 'https://huggingface.co/pogorzelskich/clagnosco_2025-05-11/resolve/main/images.zip'\n",
    "if not os.path.exists('images'):\n",
    "    os.makedirs('images', exist_ok=True)\n",
    "\n",
    "    zip_path = 'images.zip'\n",
    "    response = requests.get(url)\n",
    "    with open(zip_path, 'wb') as f:\n",
    "        f.write(response.content)\n",
    "\n",
    "    with zipfile.ZipFile(zip_path, 'r') as zip_ref:\n",
    "        zip_ref.extractall('images')\n",
    "\n",
    "    os.remove(zip_path)"
   ]
  },
  {
   "cell_type": "code",
   "execution_count": null,
   "metadata": {
    "id": "rFNlUiFaal7m"
   },
   "outputs": [],
   "source": [
    "from webui import *\n",
    "\n",
    "!pip install flask pyngrok\n",
    "from flask import Flask\n",
    "from pyngrok import conf, ngrok"
   ]
  },
  {
   "cell_type": "markdown",
   "metadata": {
    "id": "H2qcX16O599Q"
   },
   "source": [
    "# Запуск"
   ]
  },
  {
   "cell_type": "code",
   "execution_count": null,
   "metadata": {
    "id": "WrqeoxHdsU1V"
   },
   "outputs": [],
   "source": [
    "# Собственный токен ngrok\n",
    "conf.get_default().auth_token = \"2yfzvHawbUMoQpi35F39pS0GmdR_6ZQKVWGPQaTTW7gUwzRBo\""
   ]
  },
  {
   "cell_type": "code",
   "execution_count": null,
   "metadata": {
    "id": "_S-1enIq6In8"
   },
   "outputs": [],
   "source": [
    "# Запуск Clagnosco в Google Colab с помощью ngrok\n",
    "# Для примера введите в программе папку \"images\"\n",
    "public_url = ngrok.connect(5000)\n",
    "print(\"ngrok URL:\", public_url)\n",
    "app.run()\n"
   ]
  }
 ],
 "metadata": {
  "accelerator": "GPU",
  "colab": {
   "collapsed_sections": [
    "HHipdKSy5x7g"
   ],
   "gpuType": "T4",
   "provenance": []
  },
  "kernelspec": {
   "display_name": "Python 3",
   "name": "python3"
  },
  "language_info": {
   "codemirror_mode": {
    "name": "ipython",
    "version": 3
   },
   "file_extension": ".py",
   "mimetype": "text/x-python",
   "name": "python",
   "nbconvert_exporter": "python",
   "pygments_lexer": "ipython3",
   "version": "3.11.11"
  }
 },
 "nbformat": 4,
 "nbformat_minor": 0
}
