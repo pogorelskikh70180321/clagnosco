{
 "cells": [
  {
   "cell_type": "code",
   "execution_count": 1,
   "id": "a49fc4ae",
   "metadata": {},
   "outputs": [],
   "source": [
    "from autoencoder import *"
   ]
  },
  {
   "cell_type": "code",
   "execution_count": 4,
   "id": "a47c1ad8",
   "metadata": {},
   "outputs": [
    {
     "name": "stdout",
     "output_type": "stream",
     "text": [
      "Creating a new model\n"
     ]
    },
    {
     "data": {
      "text/plain": [
       "ClagnoscoAutoencoder(\n",
       "  (encoder): ClagnoscoEncoder(\n",
       "    (conv): Sequential(\n",
       "      (0): Conv2d(3, 64, kernel_size=(4, 4), stride=(2, 2), padding=(1, 1))\n",
       "      (1): BatchNorm2d(64, eps=1e-05, momentum=0.1, affine=True, track_running_stats=True)\n",
       "      (2): LeakyReLU(negative_slope=0.01, inplace=True)\n",
       "      (3): Conv2d(64, 128, kernel_size=(4, 4), stride=(2, 2), padding=(1, 1))\n",
       "      (4): BatchNorm2d(128, eps=1e-05, momentum=0.1, affine=True, track_running_stats=True)\n",
       "      (5): LeakyReLU(negative_slope=0.01, inplace=True)\n",
       "      (6): Conv2d(128, 1024, kernel_size=(3, 3), stride=(1, 1), padding=(1, 1))\n",
       "      (7): BatchNorm2d(1024, eps=1e-05, momentum=0.1, affine=True, track_running_stats=True)\n",
       "      (8): LeakyReLU(negative_slope=0.01, inplace=True)\n",
       "    )\n",
       "    (pool): AdaptiveAvgPool2d(output_size=(2, 2))\n",
       "    (lin): Sequential(\n",
       "      (0): Linear(in_features=4096, out_features=1024, bias=True)\n",
       "    )\n",
       "  )\n",
       "  (decoder): ClagnoscoDecoder(\n",
       "    (lin): Sequential(\n",
       "      (0): Linear(in_features=1025, out_features=1024, bias=True)\n",
       "    )\n",
       "    (decoder): Sequential(\n",
       "      (0): ConvTranspose2d(1024, 256, kernel_size=(16, 16), stride=(1, 1))\n",
       "      (1): LeakyReLU(negative_slope=0.01, inplace=True)\n",
       "      (2): ConvTranspose2d(256, 128, kernel_size=(4, 4), stride=(2, 2), padding=(1, 1))\n",
       "      (3): LeakyReLU(negative_slope=0.01, inplace=True)\n",
       "      (4): ConvTranspose2d(128, 64, kernel_size=(4, 4), stride=(2, 2), padding=(1, 1))\n",
       "      (5): LeakyReLU(negative_slope=0.01, inplace=True)\n",
       "      (6): ConvTranspose2d(64, 32, kernel_size=(4, 4), stride=(2, 2), padding=(1, 1))\n",
       "      (7): LeakyReLU(negative_slope=0.01, inplace=True)\n",
       "      (8): ConvTranspose2d(32, 3, kernel_size=(4, 4), stride=(2, 2), padding=(1, 1))\n",
       "      (9): Sigmoid()\n",
       "    )\n",
       "  )\n",
       ")"
      ]
     },
     "execution_count": 4,
     "metadata": {},
     "output_type": "execute_result"
    }
   ],
   "source": [
    "model, _ = model_loader(\"create\")\n",
    "model = model.to(DEVICE)\n",
    "model.eval()"
   ]
  },
  {
   "cell_type": "code",
   "execution_count": 4,
   "id": "d1bc4204",
   "metadata": {},
   "outputs": [
    {
     "data": {
      "text/plain": [
       "tensor([[[0.4941, 0.4980, 0.4902,  ..., 0.4980, 0.4902, 0.4980],\n",
       "         [0.5020, 0.4824, 0.5020,  ..., 0.4824, 0.5020, 0.4941],\n",
       "         [0.4902, 0.4980, 0.4863,  ..., 0.4941, 0.4863, 0.4980],\n",
       "         ...,\n",
       "         [0.5020, 0.4824, 0.5020,  ..., 0.4824, 0.5020, 0.4941],\n",
       "         [0.4902, 0.4941, 0.4863,  ..., 0.4941, 0.4863, 0.4980],\n",
       "         [0.4980, 0.4902, 0.4941,  ..., 0.4902, 0.4941, 0.4941]],\n",
       "\n",
       "        [[0.5137, 0.5216, 0.5137,  ..., 0.5216, 0.5137, 0.5216],\n",
       "         [0.5176, 0.5176, 0.5216,  ..., 0.5216, 0.5216, 0.5176],\n",
       "         [0.5176, 0.5216, 0.5137,  ..., 0.5216, 0.5137, 0.5216],\n",
       "         ...,\n",
       "         [0.5176, 0.5176, 0.5216,  ..., 0.5216, 0.5216, 0.5176],\n",
       "         [0.5176, 0.5216, 0.5137,  ..., 0.5216, 0.5137, 0.5216],\n",
       "         [0.5176, 0.5176, 0.5216,  ..., 0.5176, 0.5216, 0.5216]],\n",
       "\n",
       "        [[0.5216, 0.5255, 0.5216,  ..., 0.5255, 0.5216, 0.5216],\n",
       "         [0.5255, 0.5255, 0.5255,  ..., 0.5255, 0.5255, 0.5255],\n",
       "         [0.5255, 0.5255, 0.5176,  ..., 0.5255, 0.5176, 0.5255],\n",
       "         ...,\n",
       "         [0.5255, 0.5255, 0.5255,  ..., 0.5255, 0.5255, 0.5255],\n",
       "         [0.5255, 0.5255, 0.5176,  ..., 0.5255, 0.5176, 0.5255],\n",
       "         [0.5255, 0.5216, 0.5294,  ..., 0.5216, 0.5294, 0.5255]]])"
      ]
     },
     "execution_count": 4,
     "metadata": {},
     "output_type": "execute_result"
    }
   ],
   "source": [
    "# restored_img to tensor and print it (not shape and not instance of Image)\n",
    "\n",
    "transform = transforms.Compose([\n",
    "    transforms.ToTensor(),\n",
    "])\n",
    "\n",
    "img_tensor = transform(restored_img)  # [1, 3, H, W]\n",
    "img_tensor"
   ]
  },
  {
   "cell_type": "code",
   "execution_count": 5,
   "id": "992f3ad0",
   "metadata": {},
   "outputs": [
    {
     "data": {
      "image/jpeg": "[encoded data removed]",
      "image/png": "[encoded data removed]",
      "text/plain": [
       "<PIL.Image.Image image mode=RGB size=256x256>"
      ]
     },
     "execution_count": 5,
     "metadata": {},
     "output_type": "execute_result"
    }
   ],
   "source": [
    "img = \"https://upload.wikimedia.org/wikipedia/commons/thumb/e/e9/2-Finnic-branch.png/190px-2-Finnic-branch.png\"\n",
    "img = r\"C:\\!project-dataset\\images\\000d10f3c1c08fc3bf7a68322cab7b7f.jpg\"\n",
    "# img = r\"C:\\!project-dataset\\images\\00a50fad781d7e2edc57b3780be70e7f.jpg\"\n",
    "\n",
    "# latent_vec, embedding_vec, restored_img = run_image_through_autoencoder(model, img)\n",
    "latent_vec, restored_img = run_image_through_autoencoder(model, img)\n",
    "\n",
    "restored_img"
   ]
  },
  {
   "cell_type": "code",
   "execution_count": 9,
   "id": "644ba82d",
   "metadata": {},
   "outputs": [
    {
     "ename": "OSError",
     "evalue": "[Errno 22] Invalid argument: 'F:\\\\!Институт МУИВ\\\\4 курс\\\\Clagnosco\\\\https:\\\\upload.wikimedia.org\\\\wikipedia\\\\commons\\\\thumb\\\\e\\\\e9\\\\2-Finnic-branch.png\\\\190px-2-Finnic-branch.png'",
     "output_type": "error",
     "traceback": [
      "\u001b[1;31m---------------------------------------------------------------------------\u001b[0m",
      "\u001b[1;31mOSError\u001b[0m                                   Traceback (most recent call last)",
      "Cell \u001b[1;32mIn[9], line 1\u001b[0m\n\u001b[1;32m----> 1\u001b[0m \u001b[43mImage\u001b[49m\u001b[38;5;241;43m.\u001b[39;49m\u001b[43mopen\u001b[49m\u001b[43m(\u001b[49m\u001b[43mimg\u001b[49m\u001b[43m)\u001b[49m\u001b[38;5;241m.\u001b[39mconvert(\u001b[38;5;124m\"\u001b[39m\u001b[38;5;124mRGB\u001b[39m\u001b[38;5;124m\"\u001b[39m)\n",
      "File \u001b[1;32mc:\\Users\\admin\\.conda\\envs\\xgen\\Lib\\site-packages\\PIL\\Image.py:3469\u001b[0m, in \u001b[0;36mopen\u001b[1;34m(fp, mode, formats)\u001b[0m\n\u001b[0;32m   3466\u001b[0m     filename \u001b[38;5;241m=\u001b[39m os\u001b[38;5;241m.\u001b[39mpath\u001b[38;5;241m.\u001b[39mrealpath(os\u001b[38;5;241m.\u001b[39mfspath(fp))\n\u001b[0;32m   3468\u001b[0m \u001b[38;5;28;01mif\u001b[39;00m filename:\n\u001b[1;32m-> 3469\u001b[0m     fp \u001b[38;5;241m=\u001b[39m \u001b[43mbuiltins\u001b[49m\u001b[38;5;241;43m.\u001b[39;49m\u001b[43mopen\u001b[49m\u001b[43m(\u001b[49m\u001b[43mfilename\u001b[49m\u001b[43m,\u001b[49m\u001b[43m \u001b[49m\u001b[38;5;124;43m\"\u001b[39;49m\u001b[38;5;124;43mrb\u001b[39;49m\u001b[38;5;124;43m\"\u001b[39;49m\u001b[43m)\u001b[49m\n\u001b[0;32m   3470\u001b[0m     exclusive_fp \u001b[38;5;241m=\u001b[39m \u001b[38;5;28;01mTrue\u001b[39;00m\n\u001b[0;32m   3471\u001b[0m \u001b[38;5;28;01melse\u001b[39;00m:\n",
      "\u001b[1;31mOSError\u001b[0m: [Errno 22] Invalid argument: 'F:\\\\!Институт МУИВ\\\\4 курс\\\\Clagnosco\\\\https:\\\\upload.wikimedia.org\\\\wikipedia\\\\commons\\\\thumb\\\\e\\\\e9\\\\2-Finnic-branch.png\\\\190px-2-Finnic-branch.png'"
     ]
    }
   ],
   "source": [
    "Image.open(img).convert(\"RGB\")"
   ]
  },
  {
   "cell_type": "code",
   "execution_count": 10,
   "id": "8c22790c",
   "metadata": {},
   "outputs": [
    {
     "data": {
      "text/plain": [
       "tensor([ 2.1182e-02, -2.1091e-04, -2.1828e-02, -2.3730e-02,  3.8498e-03,\n",
       "         6.6156e-03,  3.1831e-02,  2.7492e-02, -1.8803e-02,  1.1190e-02,\n",
       "        -2.4893e-02,  1.5899e-02, -3.6432e-02, -1.3938e-02, -9.6515e-03,\n",
       "        -1.3330e-02, -1.0423e-03,  2.2420e-02,  6.8059e-03,  3.1098e-03,\n",
       "        -1.8693e-03, -3.5390e-03,  2.8928e-03,  1.9845e-02, -1.0900e-02,\n",
       "         2.8584e-02, -2.1986e-02,  2.0177e-04, -2.0371e-02, -2.1418e-02,\n",
       "         2.4582e-02, -1.6465e-02,  2.3433e-02, -2.3747e-02, -1.8593e-02,\n",
       "         2.0134e-02, -5.6404e-03, -2.8261e-02,  1.6308e-02,  2.1581e-02,\n",
       "        -9.0314e-03, -2.3977e-02,  1.8067e-02, -4.9290e-03,  9.0745e-03,\n",
       "        -1.3482e-02, -5.7760e-03,  1.3305e-02,  6.4598e-03,  2.7797e-02,\n",
       "        -1.5360e-02,  4.6247e-03,  7.6798e-03,  3.7087e-02,  5.8561e-03,\n",
       "        -1.6156e-02,  9.8115e-03,  1.0664e-02, -6.5846e-03, -3.1575e-02,\n",
       "         3.9802e-03,  1.4432e-02, -3.0425e-02, -1.0872e-02, -3.2138e-03,\n",
       "         1.8657e-03, -9.2664e-03,  5.5425e-03, -4.9762e-03, -1.9618e-03,\n",
       "         2.8411e-02, -3.7109e-02,  1.5603e-02, -2.5485e-02, -3.0992e-03,\n",
       "         6.7492e-03, -1.5789e-02,  2.1197e-02, -3.8707e-03, -1.5472e-04,\n",
       "        -2.0831e-02, -1.7708e-02, -4.7070e-03,  1.4657e-02,  5.4068e-03,\n",
       "         2.2259e-02,  9.1415e-03, -1.0238e-04,  6.1101e-03, -1.5760e-02,\n",
       "         1.3894e-02,  1.7195e-02,  1.0776e-02, -1.6805e-02,  1.5253e-02,\n",
       "        -6.9348e-03, -8.5310e-03,  6.5180e-03,  2.0938e-02, -2.6824e-02,\n",
       "        -2.5432e-02,  1.8889e-02,  2.6581e-02,  1.0328e-02, -1.0041e-03,\n",
       "         1.1271e-02, -2.3406e-02, -8.4401e-03, -1.7389e-02,  1.3495e-02,\n",
       "         7.2157e-03,  9.1023e-05,  2.0512e-02,  3.0603e-02, -2.9492e-03,\n",
       "         7.8136e-03,  1.3839e-02, -5.5134e-03, -2.4129e-02,  6.3116e-03,\n",
       "        -3.7774e-02,  1.0819e-02, -4.3648e-03, -2.1813e-02,  1.8417e-02,\n",
       "         4.5668e-03, -1.6040e-02,  4.3656e-03, -3.2519e-03, -1.4376e-02,\n",
       "        -1.3376e-02, -2.0854e-02, -1.1916e-03, -1.9921e-02,  9.2835e-03,\n",
       "        -1.0880e-02,  1.4596e-03,  4.7937e-03,  1.4075e-02,  1.4157e-03,\n",
       "         1.2108e-02, -7.6675e-03,  4.9594e-03, -3.0825e-03, -1.6661e-02,\n",
       "        -1.3946e-02,  4.2305e-03, -1.8640e-02, -1.9675e-02,  1.3694e-02,\n",
       "         3.3189e-03, -2.5093e-02, -1.5212e-02, -2.2676e-02,  5.3351e-03,\n",
       "        -9.8861e-03, -1.9144e-02,  4.9576e-03, -2.7663e-03, -1.9407e-02,\n",
       "        -2.7507e-02,  6.3520e-04, -1.2865e-02, -6.4130e-03,  5.3246e-04,\n",
       "         1.1198e-02, -1.1218e-02, -2.8140e-02, -1.5624e-02, -2.4100e-02,\n",
       "         1.7540e-02, -2.2996e-02,  1.2102e-02,  9.3493e-03, -2.0419e-02,\n",
       "        -7.5803e-03, -1.1176e-02, -2.8760e-02, -1.0192e-03,  2.3848e-02,\n",
       "         5.7474e-03,  2.1596e-02,  1.0779e-02, -6.2315e-03,  3.5243e-03,\n",
       "         2.7609e-02, -4.0117e-03, -5.2184e-03,  4.5604e-03, -1.5711e-02,\n",
       "         1.7957e-02, -7.2328e-03, -9.1479e-04, -5.4749e-03,  1.4544e-02,\n",
       "        -1.0517e-02, -1.6072e-02, -5.1580e-03,  1.6084e-02, -2.0643e-02,\n",
       "         2.3055e-02, -2.8378e-02,  1.6519e-02,  1.4629e-02, -5.3298e-03,\n",
       "        -1.6386e-02,  7.2074e-03, -1.5545e-02,  1.0909e-04,  1.6952e-02,\n",
       "        -2.1873e-02, -1.3267e-02,  3.5309e-03, -2.3288e-02, -1.2009e-02,\n",
       "         4.7371e-03,  1.1501e-02,  2.2943e-02,  1.4004e-02, -5.3720e-03,\n",
       "        -2.5899e-02,  2.1637e-02, -3.1214e-02, -1.0795e-02,  2.7448e-02,\n",
       "         1.1899e-02, -2.2649e-02, -1.5354e-03,  7.5565e-05,  9.8054e-04,\n",
       "         2.3188e-02,  3.2113e-03, -2.0557e-02,  1.4833e-02, -1.2412e-02,\n",
       "         2.6431e-02,  1.5613e-02, -9.4947e-03, -1.1823e-02, -1.8026e-02,\n",
       "        -1.3085e-02, -5.8275e-03, -2.4980e-02, -2.4166e-03,  1.7836e-02,\n",
       "         1.9965e-02, -1.0956e-03,  2.1200e-02,  1.0133e-02,  1.3642e-02,\n",
       "         2.1797e-02,  5.2892e-03, -2.1250e-02, -5.0516e-03,  5.8976e-03,\n",
       "         3.8358e-03,  1.0521e-03, -7.1574e-03, -3.9374e-03, -2.8880e-02,\n",
       "        -2.6436e-02, -1.1893e-02,  1.2871e-02,  3.4995e-02,  6.6485e-03,\n",
       "        -1.8017e-02,  1.6191e-02, -3.1658e-03,  1.1929e-02, -1.9853e-02,\n",
       "        -1.5808e-02, -2.0991e-02, -2.3777e-02,  2.1502e-02,  7.6790e-03,\n",
       "         1.9283e-02, -1.6346e-02,  3.5881e-02, -8.0709e-03,  1.0571e-02,\n",
       "        -1.8875e-02,  2.7230e-02, -3.2751e-03, -1.8271e-03,  1.7186e-02,\n",
       "         8.8389e-03, -2.5121e-02, -1.1826e-02, -4.4296e-03, -5.4189e-03,\n",
       "        -9.4157e-03,  1.3289e-02,  1.7344e-02, -2.0036e-02, -2.9661e-02,\n",
       "         1.7922e-02,  6.3164e-03,  1.9121e-02, -3.8119e-05, -9.9220e-03,\n",
       "        -1.9454e-02, -2.1868e-02,  8.7674e-04,  1.8153e-02, -1.1072e-02,\n",
       "        -1.7409e-03,  2.3793e-02,  1.7411e-02,  3.5050e-03,  1.0479e-02,\n",
       "        -1.4044e-02,  6.5434e-03,  1.8825e-02, -1.6612e-03,  2.2715e-02,\n",
       "         1.5545e-02,  2.3518e-02,  2.2375e-02,  2.1785e-03, -2.4959e-02,\n",
       "        -3.6576e-03, -2.6653e-02,  8.8919e-03, -1.8128e-02,  1.9416e-02,\n",
       "         1.9320e-02,  1.0598e-02,  2.3903e-02, -1.8123e-02,  2.9536e-03,\n",
       "        -7.3764e-03,  1.4308e-02,  6.8476e-04,  1.8204e-02,  8.3579e-03,\n",
       "         1.6941e-02,  2.7960e-02, -2.3432e-02,  1.1757e-02, -2.8155e-02,\n",
       "        -7.5571e-03,  2.4096e-03,  2.0376e-02, -3.1091e-02, -2.2566e-02,\n",
       "        -1.3201e-02, -2.7722e-03, -1.7868e-02,  1.8688e-02,  3.5660e-02,\n",
       "         5.6963e-03,  1.6563e-02, -1.5907e-02, -7.3871e-03,  1.1520e-02,\n",
       "        -3.4707e-02, -1.4678e-02,  1.9407e-02,  1.6952e-03, -1.2300e-02,\n",
       "         7.9927e-03, -9.3930e-04,  3.0507e-02,  2.5645e-02,  1.8738e-02,\n",
       "         2.0553e-02, -2.8040e-02,  1.5252e-02,  3.0676e-02,  4.7902e-03,\n",
       "        -1.4168e-03, -1.6734e-02, -2.0751e-02,  3.3680e-04,  8.8489e-03,\n",
       "        -1.6838e-02, -1.2508e-02,  5.9122e-03, -2.3802e-02,  2.3318e-04,\n",
       "         2.1761e-02, -7.0975e-03, -1.4263e-03, -2.1933e-02, -3.4228e-02,\n",
       "        -4.6018e-03,  3.4579e-02,  1.0431e-02,  3.1139e-03, -2.4037e-02,\n",
       "         1.0605e-03,  2.1924e-02, -8.3712e-03,  6.7382e-03,  3.9200e-03,\n",
       "        -2.9178e-02,  6.2679e-03,  1.5158e-02,  2.8142e-02,  1.4796e-02,\n",
       "        -1.3893e-02,  1.8698e-02, -6.5523e-03,  7.8803e-03,  7.4367e-03,\n",
       "         2.8136e-02, -1.0310e-02, -1.4042e-02, -1.3127e-03, -1.7006e-02,\n",
       "         1.5173e-02, -1.6158e-02,  2.1601e-02,  2.1082e-02, -5.9201e-03,\n",
       "         1.2734e-02,  3.3455e-02,  3.7616e-03,  1.1767e-02, -2.9482e-02,\n",
       "         4.1809e-03,  2.7429e-02,  7.5891e-03, -5.6913e-03, -8.1856e-04,\n",
       "         1.9043e-02, -8.7843e-03, -3.0445e-03, -1.7373e-02,  2.8484e-02,\n",
       "         1.7494e-02, -2.7919e-03, -2.6805e-02, -2.0250e-02,  1.8694e-02,\n",
       "         3.4090e-03,  1.6010e-02, -1.1499e-02, -2.2069e-02,  1.9931e-02,\n",
       "         1.8176e-02, -5.5353e-03,  1.7792e-02,  1.1386e-02,  2.0973e-02,\n",
       "        -2.0029e-03, -1.3951e-02, -6.4996e-03,  5.1206e-03,  1.4436e-02,\n",
       "         6.4058e-03, -2.5401e-02,  9.6394e-03, -2.0155e-02,  2.0183e-02,\n",
       "         1.0856e-02, -1.5512e-03,  1.1048e-02,  4.2952e-02,  1.2702e-02,\n",
       "         1.8434e-02,  1.3592e-02, -8.3035e-03, -2.0946e-02, -1.6055e-02,\n",
       "         1.0426e-02,  1.6776e-02, -1.1717e-02, -7.6376e-04, -2.6033e-02,\n",
       "         2.0185e-02,  1.1724e-02, -1.4485e-02, -2.4539e-02,  5.2032e-03,\n",
       "         2.7898e-02, -4.7009e-03,  1.7090e-02, -2.2797e-02,  1.3586e-02,\n",
       "         9.8807e-04,  7.7705e-03,  5.5242e-03, -1.8224e-02, -1.6687e-02,\n",
       "        -1.6425e-02, -2.6026e-02,  3.8272e-02,  2.8859e-02,  6.1067e-03,\n",
       "        -1.3240e-02, -1.0297e-03, -1.9866e-02,  2.4952e-02, -7.7180e-03,\n",
       "        -2.0693e-02,  3.3893e-02,  1.8472e-03,  3.4461e-03,  3.1804e-03,\n",
       "        -9.7288e-03, -1.8306e-02, -1.1637e-02, -5.6907e-03, -1.9857e-02,\n",
       "         1.2244e-02, -1.0520e-02, -9.8678e-03, -1.2569e-02,  4.1157e-03,\n",
       "        -1.1871e-02, -3.0491e-02], device='cuda:0')"
      ]
     },
     "execution_count": 10,
     "metadata": {},
     "output_type": "execute_result"
    }
   ],
   "source": [
    "latent_vec"
   ]
  },
  {
   "cell_type": "code",
   "execution_count": 6,
   "id": "ec256dfe",
   "metadata": {},
   "outputs": [
    {
     "name": "stdout",
     "output_type": "stream",
     "text": [
      "Deleted untrained log loss file: models/autoencoder_2025-05-08_03-23-28_epoch_3_loss.txt\n",
      "Deleted untrained log loss file: models/autoencoder_2025-05-08_04-00-40_epoch_3_loss.txt\n",
      "Deleted untrained log loss file: models/autoencoder_2025-05-08_12-57-57_epoch_13_loss.txt\n",
      "Deleted untrained log loss file: models/autoencoder_2025-05-08_13-05-00_epoch_1_loss.txt\n",
      "Deleted untrained log loss file: models/autoencoder_2025-05-08_14-06-55_epoch_14_loss.txt\n",
      "Deleted untrained log loss file: models/autoencoder_2025-05-08_14-07-20_epoch_14_loss.txt\n",
      "Deleted untrained log loss file: models/autoencoder_2025-05-08_14-56-38_epoch_15_loss.txt\n",
      "Deleted untrained log loss file: models/autoencoder_2025-05-08_15-16-01_epoch_1_loss.txt\n"
     ]
    }
   ],
   "source": [
    "delete_untrained_loss_log_files()"
   ]
  }
 ],
 "metadata": {
  "kernelspec": {
   "display_name": "xgen",
   "language": "python",
   "name": "python3"
  },
  "language_info": {
   "codemirror_mode": {
    "name": "ipython",
    "version": 3
   },
   "file_extension": ".py",
   "mimetype": "text/x-python",
   "name": "python",
   "nbconvert_exporter": "python",
   "pygments_lexer": "ipython3",
   "version": "3.11.11"
  }
 },
 "nbformat": 4,
 "nbformat_minor": 5
}
