{
 "cells": [
  {
   "cell_type": "code",
   "execution_count": null,
   "id": "a6a49bc0",
   "metadata": {},
   "outputs": [],
   "source": [
    "# Импорт библиотек, классов и функций из autoencoder\n",
    "from autoencoder import *"
   ]
  },
  {
   "cell_type": "code",
   "execution_count": null,
   "id": "e8786866",
   "metadata": {},
   "outputs": [],
   "source": [
    "# Датасет для обучения автоэнкодера\n",
    "dataset = ClagnoscoDataset()\n",
    "transformed_dataset = TransformedClagnoscoDataset(dataset)"
   ]
  },
  {
   "cell_type": "code",
   "execution_count": null,
   "id": "2d95ac82",
   "metadata": {},
   "outputs": [
    {
     "name": "stdout",
     "output_type": "stream",
     "text": [
      "Creating a new model\n"
     ]
    }
   ],
   "source": [
    "# Разбиение на батчи и бакеты\n",
    "train_batches, test_batches = dataset.random_splitting_batching_buckets(batch_size=-1, seed=430)\n",
    "\n",
    "# Создание (или загрузка) модели автоэнкодера\n",
    "model, first_epoch = model_loader(\"create\")"
   ]
  },
  {
   "cell_type": "code",
   "execution_count": null,
   "id": "bd4179b0",
   "metadata": {},
   "outputs": [
    {
     "data": {
      "application/vnd.jupyter.widget-view+json": {
       "model_id": "7de163ba1789434bb160fc790fd2c68b",
       "version_major": 2,
       "version_minor": 0
      },
      "text/plain": [
       "Epoch 1/100:   0%|          | 0/13203 [00:00<?, ?it/s]"
      ]
     },
     "metadata": {},
     "output_type": "display_data"
    }
   ],
   "source": [
    "# Обучение автоэнкодера\n",
    "train_autoencoder(transformed_dataset, train_batches, model=model, first_epoch=first_epoch,\n",
    "                  num_epochs=100, lr=0.001)"
   ]
  },
  {
   "cell_type": "code",
   "execution_count": null,
   "id": "f9fa3489",
   "metadata": {},
   "outputs": [],
   "source": []
  }
 ],
 "metadata": {
  "kernelspec": {
   "display_name": "xgen",
   "language": "python",
   "name": "python3"
  },
  "language_info": {
   "codemirror_mode": {
    "name": "ipython",
    "version": 3
   },
   "file_extension": ".py",
   "mimetype": "text/x-python",
   "name": "python",
   "nbconvert_exporter": "python",
   "pygments_lexer": "ipython3",
   "version": "3.11.11"
  }
 },
 "nbformat": 4,
 "nbformat_minor": 5
}
