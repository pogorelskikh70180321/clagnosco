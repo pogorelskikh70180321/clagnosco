{
 "cells": [
  {
   "cell_type": "code",
   "execution_count": 1,
   "id": "a6a49bc0",
   "metadata": {},
   "outputs": [],
   "source": [
    "from autoencoder import *"
   ]
  },
  {
   "cell_type": "code",
   "execution_count": 2,
   "id": "e8786866",
   "metadata": {},
   "outputs": [],
   "source": [
    "dataset = ClagnoscoDataset()\n",
    "transformed_dataset = TransformedClagnoscoDataset(dataset)"
   ]
  },
  {
   "cell_type": "code",
   "execution_count": 4,
   "id": "2d95ac82",
   "metadata": {},
   "outputs": [],
   "source": [
    "train_batches, test_batches = dataset.random_splitting_batching_buckets()\n",
    "\n",
    "model = ClagnoscoAutoencoder()"
   ]
  },
  {
   "cell_type": "code",
   "execution_count": null,
   "id": "bd4179b0",
   "metadata": {},
   "outputs": [
    {
     "data": {
      "application/vnd.jupyter.widget-view+json": {
       "model_id": "5fa9dc993fb74325826f064ba862d80a",
       "version_major": 2,
       "version_minor": 0
      },
      "text/plain": [
       "Epoch 1/20:   0%|          | 0/13203 [00:00<?, ?it/s]"
      ]
     },
     "metadata": {},
     "output_type": "display_data"
    }
   ],
   "source": [
    "train_autoencoder(model, transformed_dataset, train_batches, num_epochs=20)"
   ]
  }
 ],
 "metadata": {
  "kernelspec": {
   "display_name": "xgen",
   "language": "python",
   "name": "python3"
  },
  "language_info": {
   "codemirror_mode": {
    "name": "ipython",
    "version": 3
   },
   "file_extension": ".py",
   "mimetype": "text/x-python",
   "name": "python",
   "nbconvert_exporter": "python",
   "pygments_lexer": "ipython3",
   "version": "3.11.11"
  }
 },
 "nbformat": 4,
 "nbformat_minor": 5
}
