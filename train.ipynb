{
 "cells": [
  {
   "cell_type": "code",
   "execution_count": null,
   "id": "a6a49bc0",
   "metadata": {},
   "outputs": [],
   "source": [
    "from autoencoder import *"
   ]
  },
  {
   "cell_type": "code",
   "execution_count": null,
   "id": "e8786866",
   "metadata": {},
   "outputs": [],
   "source": [
    "dataset = ClagnoscoDataset()\n",
    "transformed_dataset = TransformedClagnoscoDataset(dataset)"
   ]
  },
  {
   "cell_type": "code",
   "execution_count": null,
   "id": "2d95ac82",
   "metadata": {},
   "outputs": [],
   "source": [
    "train_batches, test_batches = dataset.random_splitting_batching_buckets(batch_size=-1)\n",
    "\n",
    "model = ClagnoscoAutoencoder()"
   ]
  },
  {
   "cell_type": "code",
   "execution_count": null,
   "id": "bd4179b0",
   "metadata": {},
   "outputs": [
    {
     "name": "stdout",
     "output_type": "stream",
     "text": [
      "models/autoencoder_2025-05-07_20-03-14_epoch_5.pt\n"
     ]
    },
    {
     "ename": "TypeError",
     "evalue": "can only concatenate str (not \"ClagnoscoAutoencoder\") to str",
     "output_type": "error",
     "traceback": [
      "\u001b[1;31m---------------------------------------------------------------------------\u001b[0m",
      "\u001b[1;31mTypeError\u001b[0m                                 Traceback (most recent call last)",
      "Cell \u001b[1;32mIn[7], line 1\u001b[0m\n\u001b[1;32m----> 1\u001b[0m \u001b[43mtrain_autoencoder\u001b[49m\u001b[43m(\u001b[49m\u001b[43mtransformed_dataset\u001b[49m\u001b[43m,\u001b[49m\u001b[43m \u001b[49m\u001b[43mtrain_batches\u001b[49m\u001b[43m,\u001b[49m\u001b[43m \u001b[49m\u001b[43mmodel\u001b[49m\u001b[38;5;241;43m=\u001b[39;49m\u001b[38;5;124;43m\"\u001b[39;49m\u001b[38;5;124;43mautoencoder_2025-05-07_20-03-14_epoch_5.pt\u001b[39;49m\u001b[38;5;124;43m\"\u001b[39;49m\u001b[43m,\u001b[49m\n\u001b[0;32m      2\u001b[0m \u001b[43m                  \u001b[49m\u001b[43mnum_epochs\u001b[49m\u001b[38;5;241;43m=\u001b[39;49m\u001b[38;5;241;43m20\u001b[39;49m\u001b[43m,\u001b[49m\u001b[43m \u001b[49m\u001b[43mlr\u001b[49m\u001b[38;5;241;43m=\u001b[39;49m\u001b[38;5;241;43m0.005\u001b[39;49m\u001b[43m,\u001b[49m\u001b[43m \u001b[49m\u001b[43mloss_recon_weight\u001b[49m\u001b[38;5;241;43m=\u001b[39;49m\u001b[38;5;241;43m0.5\u001b[39;49m\u001b[43m)\u001b[49m\n",
      "File \u001b[1;32mf:\\!Институт МУИВ\\4 курс\\Clagnosco\\autoencoder.py:188\u001b[0m, in \u001b[0;36mtrain_autoencoder\u001b[1;34m(transformed_dataset, train_batches, model, num_epochs, first_epoch, lr, loss_recon_weight)\u001b[0m\n\u001b[0;32m    186\u001b[0m         first_epoch \u001b[38;5;241m=\u001b[39m \u001b[38;5;28mint\u001b[39m(model\u001b[38;5;241m.\u001b[39msplit(\u001b[38;5;124m'\u001b[39m\u001b[38;5;124m_\u001b[39m\u001b[38;5;124m'\u001b[39m)[\u001b[38;5;241m4\u001b[39m]\u001b[38;5;241m.\u001b[39msplit(\u001b[38;5;124m\"\u001b[39m\u001b[38;5;124m.\u001b[39m\u001b[38;5;124m\"\u001b[39m)[\u001b[38;5;241m0\u001b[39m])\n\u001b[0;32m    187\u001b[0m         model \u001b[38;5;241m=\u001b[39m ClagnoscoAutoencoder()\n\u001b[1;32m--> 188\u001b[0m         model\u001b[38;5;241m.\u001b[39mload_state_dict(torch\u001b[38;5;241m.\u001b[39mload(\u001b[43mSAVE_FOLDER\u001b[49m\u001b[38;5;241;43m+\u001b[39;49m\u001b[43mmodel\u001b[49m))\n\u001b[0;32m    189\u001b[0m model\u001b[38;5;241m.\u001b[39mtrain()\n\u001b[0;32m    190\u001b[0m model\u001b[38;5;241m.\u001b[39mto(DEVICE)\n",
      "\u001b[1;31mTypeError\u001b[0m: can only concatenate str (not \"ClagnoscoAutoencoder\") to str"
     ]
    }
   ],
   "source": [
    "train_autoencoder(transformed_dataset, train_batches, model=\"autoencoder_2025-05-07_20-03-14_epoch_5.pt\",\n",
    "                  num_epochs=20, lr=0.005, loss_recon_weight=0.5)"
   ]
  },
  {
   "cell_type": "code",
   "execution_count": null,
   "id": "567a98a4",
   "metadata": {},
   "outputs": [],
   "source": []
  }
 ],
 "metadata": {
  "kernelspec": {
   "display_name": "xgen",
   "language": "python",
   "name": "python3"
  },
  "language_info": {
   "codemirror_mode": {
    "name": "ipython",
    "version": 3
   },
   "file_extension": ".py",
   "mimetype": "text/x-python",
   "name": "python",
   "nbconvert_exporter": "python",
   "pygments_lexer": "ipython3",
   "version": "3.11.11"
  }
 },
 "nbformat": 4,
 "nbformat_minor": 5
}
