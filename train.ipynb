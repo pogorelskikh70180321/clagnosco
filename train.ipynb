{
 "cells": [
  {
   "cell_type": "code",
   "execution_count": 1,
   "id": "a6a49bc0",
   "metadata": {},
   "outputs": [],
   "source": [
    "from autoencoder import *"
   ]
  },
  {
   "cell_type": "code",
   "execution_count": 2,
   "id": "e8786866",
   "metadata": {},
   "outputs": [],
   "source": [
    "dataset = ClagnoscoDataset()\n",
    "transformed_dataset = TransformedClagnoscoDataset(dataset)"
   ]
  },
  {
   "cell_type": "code",
   "execution_count": 3,
   "id": "2d95ac82",
   "metadata": {},
   "outputs": [],
   "source": [
    "train_batches, test_batches = dataset.random_splitting_batching_buckets(batch_size=1)\n",
    "\n",
    "model = ClagnoscoAutoencoder()"
   ]
  },
  {
   "cell_type": "code",
   "execution_count": null,
   "id": "bd4179b0",
   "metadata": {},
   "outputs": [
    {
     "data": {
      "application/vnd.jupyter.widget-view+json": {
       "model_id": "72c262dd74544a3b97e2819210a6a815",
       "version_major": 2,
       "version_minor": 0
      },
      "text/plain": [
       "Epoch 1/20:   0%|          | 0/129348 [00:00<?, ?it/s]"
      ]
     },
     "metadata": {},
     "output_type": "display_data"
    },
    {
     "name": "stdout",
     "output_type": "stream",
     "text": [
      "[Epoch 1] Avg Loss: 0.061485 - Saved to autoencoder_2025-05-07_14-08-55_epoch_1.pt\n"
     ]
    },
    {
     "data": {
      "application/vnd.jupyter.widget-view+json": {
       "model_id": "05cb2cd80dda4343b24ab4fc6349048a",
       "version_major": 2,
       "version_minor": 0
      },
      "text/plain": [
       "Epoch 2/20:   0%|          | 0/129348 [00:00<?, ?it/s]"
      ]
     },
     "metadata": {},
     "output_type": "display_data"
    }
   ],
   "source": [
    "train_autoencoder(transformed_dataset, train_batches, model, num_epochs=20, lr=0.005, loss_recon_weight=0.5)"
   ]
  },
  {
   "cell_type": "code",
   "execution_count": null,
   "id": "567a98a4",
   "metadata": {},
   "outputs": [],
   "source": []
  }
 ],
 "metadata": {
  "kernelspec": {
   "display_name": "xgen",
   "language": "python",
   "name": "python3"
  },
  "language_info": {
   "codemirror_mode": {
    "name": "ipython",
    "version": 3
   },
   "file_extension": ".py",
   "mimetype": "text/x-python",
   "name": "python",
   "nbconvert_exporter": "python",
   "pygments_lexer": "ipython3",
   "version": "3.11.11"
  }
 },
 "nbformat": 4,
 "nbformat_minor": 5
}
