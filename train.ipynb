{
 "cells": [
  {
   "cell_type": "code",
   "execution_count": 1,
   "id": "a6a49bc0",
   "metadata": {},
   "outputs": [],
   "source": [
    "# Импорт библиотек, классов и функций из autoencoder\n",
    "from autoencoder import *\n",
    "from tqdm.notebook import tqdm\n",
    "\n",
    "# Папка для моделей\n",
    "SAVE_FOLDER = \"models/\"\n",
    "\n",
    "# Директория файлов датасета (должны быть подпапки:\n",
    "#       images_resize (минимальная сторона изображений - 192 пикселей) и \n",
    "#       images_square (квадратные изображения 256x256))\n",
    "BASE_DATASET_DIR = r\"C:\\!project-dataset\""
   ]
  },
  {
   "cell_type": "code",
   "execution_count": 2,
   "id": "e8786866",
   "metadata": {},
   "outputs": [],
   "source": [
    "# Датасет для обучения автоэнкодера\n",
    "dataset = ClagnoscoDataset()\n",
    "transformed_dataset = TransformedClagnoscoDataset(dataset)"
   ]
  },
  {
   "cell_type": "code",
   "execution_count": 3,
   "id": "2d95ac82",
   "metadata": {},
   "outputs": [
    {
     "name": "stdout",
     "output_type": "stream",
     "text": [
      "Создание новой модели\n"
     ]
    }
   ],
   "source": [
    "# Разбиение на батчи и бакеты\n",
    "train_batches, test_batches = dataset.random_splitting_batching_buckets(batch_size=-1, seed=42)\n",
    "\n",
    "# Создание (или загрузка) модели автоэнкодера\n",
    "model, first_epoch = model_loader(\"create\")"
   ]
  },
  {
   "cell_type": "code",
   "execution_count": 4,
   "id": "93bc678f",
   "metadata": {},
   "outputs": [
    {
     "data": {
      "text/plain": [
       "ClagnoscoAutoencoder(\n",
       "  (encoder): ClagnoscoEncoder(\n",
       "    (conv): Sequential(\n",
       "      (0): Conv2d(3, 64, kernel_size=(4, 4), stride=(2, 2), padding=(1, 1))\n",
       "      (1): BatchNorm2d(64, eps=1e-05, momentum=0.1, affine=True, track_running_stats=True)\n",
       "      (2): LeakyReLU(negative_slope=0.01, inplace=True)\n",
       "      (3): Conv2d(64, 128, kernel_size=(4, 4), stride=(2, 2), padding=(1, 1))\n",
       "      (4): BatchNorm2d(128, eps=1e-05, momentum=0.1, affine=True, track_running_stats=True)\n",
       "      (5): LeakyReLU(negative_slope=0.01, inplace=True)\n",
       "      (6): Conv2d(128, 512, kernel_size=(3, 3), stride=(1, 1), padding=(1, 1))\n",
       "      (7): BatchNorm2d(512, eps=1e-05, momentum=0.1, affine=True, track_running_stats=True)\n",
       "      (8): LeakyReLU(negative_slope=0.01, inplace=True)\n",
       "    )\n",
       "    (pool): AdaptiveAvgPool2d(output_size=(4, 4))\n",
       "    (lin): Sequential(\n",
       "      (0): Linear(in_features=8192, out_features=2048, bias=True)\n",
       "      (1): LeakyReLU(negative_slope=0.01, inplace=True)\n",
       "      (2): Linear(in_features=2048, out_features=512, bias=True)\n",
       "    )\n",
       "  )\n",
       "  (decoder): ClagnoscoDecoder(\n",
       "    (lin): Sequential(\n",
       "      (0): Linear(in_features=512, out_features=4096, bias=True)\n",
       "      (1): LeakyReLU(negative_slope=0.01, inplace=True)\n",
       "    )\n",
       "    (convt): Sequential(\n",
       "      (0): ConvTranspose2d(4096, 256, kernel_size=(16, 16), stride=(1, 1))\n",
       "      (1): LeakyReLU(negative_slope=0.01, inplace=True)\n",
       "      (2): ConvTranspose2d(256, 128, kernel_size=(4, 4), stride=(2, 2), padding=(1, 1))\n",
       "      (3): LeakyReLU(negative_slope=0.01, inplace=True)\n",
       "      (4): ConvTranspose2d(128, 64, kernel_size=(4, 4), stride=(2, 2), padding=(1, 1))\n",
       "      (5): LeakyReLU(negative_slope=0.01, inplace=True)\n",
       "      (6): ConvTranspose2d(64, 32, kernel_size=(4, 4), stride=(2, 2), padding=(1, 1))\n",
       "      (7): LeakyReLU(negative_slope=0.01, inplace=True)\n",
       "      (8): ConvTranspose2d(32, 3, kernel_size=(4, 4), stride=(2, 2), padding=(1, 1))\n",
       "      (9): Sigmoid()\n",
       "    )\n",
       "  )\n",
       ")"
      ]
     },
     "execution_count": 4,
     "metadata": {},
     "output_type": "execute_result"
    }
   ],
   "source": [
    "model"
   ]
  },
  {
   "cell_type": "code",
   "execution_count": null,
   "id": "bd4179b0",
   "metadata": {},
   "outputs": [
    {
     "name": "stderr",
     "output_type": "stream",
     "text": [
      "Эпоха 1/100: 100%|██████████| 13203/13203 [42:21<00:00,  5.19it/s, потери=0.0872, ср_потери=0.1442] \n"
     ]
    },
    {
     "name": "stdout",
     "output_type": "stream",
     "text": [
      "[Эпоха 1] Средняя ошибка: 0.144238 - Сохранено как autoencoder_2025-06-13_02-42-57_epoch_1.pt\n"
     ]
    },
    {
     "name": "stderr",
     "output_type": "stream",
     "text": [
      "Эпоха 2/100: 100%|██████████| 13203/13203 [40:31<00:00,  5.43it/s, потери=0.0831, ср_потери=0.1286]\n"
     ]
    },
    {
     "name": "stdout",
     "output_type": "stream",
     "text": [
      "[Эпоха 2] Средняя ошибка: 0.128623 - Сохранено как autoencoder_2025-06-13_03-25-23_epoch_2.pt\n"
     ]
    },
    {
     "name": "stderr",
     "output_type": "stream",
     "text": [
      "Эпоха 3/100: 100%|██████████| 13203/13203 [40:39<00:00,  5.41it/s, потери=0.0805, ср_потери=0.1246]\n"
     ]
    },
    {
     "name": "stdout",
     "output_type": "stream",
     "text": [
      "[Эпоха 3] Средняя ошибка: 0.124599 - Сохранено как autoencoder_2025-06-13_04-06-00_epoch_3.pt\n"
     ]
    },
    {
     "name": "stderr",
     "output_type": "stream",
     "text": [
      "Эпоха 4/100:  96%|█████████▌| 12700/13203 [41:52<01:36,  5.19it/s, потери=0.0697, ср_потери=0.1219] "
     ]
    }
   ],
   "source": [
    "# Обучение автоэнкодера\n",
    "train_autoencoder(transformed_dataset, train_batches, model=model, first_epoch=first_epoch,\n",
    "                  num_epochs=100, lr=0.001, criterion_type=\"MSE\")"
   ]
  },
  {
   "cell_type": "code",
   "execution_count": null,
   "id": "21f702a6",
   "metadata": {},
   "outputs": [],
   "source": []
  }
 ],
 "metadata": {
  "kernelspec": {
   "display_name": "xgen",
   "language": "python",
   "name": "python3"
  },
  "language_info": {
   "codemirror_mode": {
    "name": "ipython",
    "version": 3
   },
   "file_extension": ".py",
   "mimetype": "text/x-python",
   "name": "python",
   "nbconvert_exporter": "python",
   "pygments_lexer": "ipython3",
   "version": "3.11.11"
  }
 },
 "nbformat": 4,
 "nbformat_minor": 5
}
