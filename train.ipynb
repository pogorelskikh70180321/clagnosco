{
 "cells": [
  {
   "cell_type": "code",
   "execution_count": null,
   "id": "a6a49bc0",
   "metadata": {},
   "outputs": [],
   "source": [
    "# Импорт библиотек, классов и функций из autoencoder\n",
    "from autoencoder import *\n",
    "\n",
    "# Папка для моделей\n",
    "SAVE_FOLDER = \"models/\"\n",
    "\n",
    "# Директория файлов датасета (должны быть подпапки:\n",
    "#       images_resize (минимальная сторона изображений - 192 пикселей) и \n",
    "#       images_square (квадратные изображения 256x256))\n",
    "BASE_DATASET_DIR = r\"C:\\!project-dataset\""
   ]
  },
  {
   "cell_type": "code",
   "execution_count": 2,
   "id": "e8786866",
   "metadata": {},
   "outputs": [],
   "source": [
    "# Датасет для обучения автоэнкодера\n",
    "dataset = ClagnoscoDataset()\n",
    "transformed_dataset = TransformedClagnoscoDataset(dataset)"
   ]
  },
  {
   "cell_type": "code",
   "execution_count": 3,
   "id": "2d95ac82",
   "metadata": {},
   "outputs": [
    {
     "name": "stdout",
     "output_type": "stream",
     "text": [
      "Загружена последняя модель: model.pt\n"
     ]
    }
   ],
   "source": [
    "# Разбиение на батчи и бакеты\n",
    "train_batches, test_batches = dataset.random_splitting_batching_buckets(batch_size=-1, seed=42)\n",
    "\n",
    "# Создание (или загрузка) модели автоэнкодера\n",
    "model, first_epoch = model_loader()"
   ]
  },
  {
   "cell_type": "code",
   "execution_count": 4,
   "id": "93bc678f",
   "metadata": {},
   "outputs": [
    {
     "data": {
      "text/plain": [
       "ClagnoscoAutoencoder(\n",
       "  (encoder): ClagnoscoEncoder(\n",
       "    (conv): Sequential(\n",
       "      (0): Conv2d(3, 64, kernel_size=(4, 4), stride=(2, 2), padding=(1, 1))\n",
       "      (1): BatchNorm2d(64, eps=1e-05, momentum=0.1, affine=True, track_running_stats=True)\n",
       "      (2): LeakyReLU(negative_slope=0.01, inplace=True)\n",
       "      (3): Conv2d(64, 128, kernel_size=(4, 4), stride=(2, 2), padding=(1, 1))\n",
       "      (4): BatchNorm2d(128, eps=1e-05, momentum=0.1, affine=True, track_running_stats=True)\n",
       "      (5): LeakyReLU(negative_slope=0.01, inplace=True)\n",
       "      (6): Conv2d(128, 512, kernel_size=(3, 3), stride=(1, 1), padding=(1, 1))\n",
       "      (7): BatchNorm2d(512, eps=1e-05, momentum=0.1, affine=True, track_running_stats=True)\n",
       "      (8): LeakyReLU(negative_slope=0.01, inplace=True)\n",
       "    )\n",
       "    (pool): AdaptiveAvgPool2d(output_size=(4, 4))\n",
       "    (lin): Sequential(\n",
       "      (0): Linear(in_features=8192, out_features=2048, bias=True)\n",
       "      (1): LeakyReLU(negative_slope=0.01, inplace=True)\n",
       "      (2): Linear(in_features=2048, out_features=512, bias=True)\n",
       "    )\n",
       "  )\n",
       "  (decoder): ClagnoscoDecoder(\n",
       "    (lin): Sequential(\n",
       "      (0): Linear(in_features=512, out_features=4096, bias=True)\n",
       "      (1): LeakyReLU(negative_slope=0.01, inplace=True)\n",
       "    )\n",
       "    (convt): Sequential(\n",
       "      (0): ConvTranspose2d(4096, 256, kernel_size=(16, 16), stride=(1, 1))\n",
       "      (1): LeakyReLU(negative_slope=0.01, inplace=True)\n",
       "      (2): ConvTranspose2d(256, 128, kernel_size=(4, 4), stride=(2, 2), padding=(1, 1))\n",
       "      (3): LeakyReLU(negative_slope=0.01, inplace=True)\n",
       "      (4): ConvTranspose2d(128, 64, kernel_size=(4, 4), stride=(2, 2), padding=(1, 1))\n",
       "      (5): LeakyReLU(negative_slope=0.01, inplace=True)\n",
       "      (6): ConvTranspose2d(64, 32, kernel_size=(4, 4), stride=(2, 2), padding=(1, 1))\n",
       "      (7): LeakyReLU(negative_slope=0.01, inplace=True)\n",
       "      (8): ConvTranspose2d(32, 3, kernel_size=(4, 4), stride=(2, 2), padding=(1, 1))\n",
       "      (9): Sigmoid()\n",
       "    )\n",
       "  )\n",
       ")"
      ]
     },
     "execution_count": 4,
     "metadata": {},
     "output_type": "execute_result"
    }
   ],
   "source": [
    "model"
   ]
  },
  {
   "cell_type": "code",
   "execution_count": 5,
   "id": "bd4179b0",
   "metadata": {},
   "outputs": [
    {
     "data": {
      "application/vnd.jupyter.widget-view+json": {
       "model_id": "5888501e90b1486489a8a980f5b82a6b",
       "version_major": 2,
       "version_minor": 0
      },
      "text/plain": [
       "Эпоха 34/100:   0%|          | 0/13203 [00:00<?, ?it/s]"
      ]
     },
     "metadata": {},
     "output_type": "display_data"
    },
    {
     "name": "stdout",
     "output_type": "stream",
     "text": [
      "[Эпоха 34] Средняя ошибка: 0.014923 - Сохранено как autoencoder_2025-05-30_01-55-59_epoch_34.pt\n"
     ]
    },
    {
     "data": {
      "application/vnd.jupyter.widget-view+json": {
       "model_id": "9738b3e701214b2bb5b5d2a2bdef94c5",
       "version_major": 2,
       "version_minor": 0
      },
      "text/plain": [
       "Эпоха 35/100:   0%|          | 0/13203 [00:00<?, ?it/s]"
      ]
     },
     "metadata": {},
     "output_type": "display_data"
    },
    {
     "name": "stdout",
     "output_type": "stream",
     "text": [
      "[Эпоха 35] Средняя ошибка: 0.014890 - Сохранено как autoencoder_2025-05-30_02-34-10_epoch_35.pt\n"
     ]
    },
    {
     "data": {
      "application/vnd.jupyter.widget-view+json": {
       "model_id": "0c2c624500824b3dadf9eabd85e06b34",
       "version_major": 2,
       "version_minor": 0
      },
      "text/plain": [
       "Эпоха 36/100:   0%|          | 0/13203 [00:00<?, ?it/s]"
      ]
     },
     "metadata": {},
     "output_type": "display_data"
    },
    {
     "ename": "KeyboardInterrupt",
     "evalue": "",
     "output_type": "error",
     "traceback": [
      "\u001b[1;31m---------------------------------------------------------------------------\u001b[0m",
      "\u001b[1;31mKeyboardInterrupt\u001b[0m                         Traceback (most recent call last)",
      "Cell \u001b[1;32mIn[5], line 2\u001b[0m\n\u001b[0;32m      1\u001b[0m \u001b[38;5;66;03m# Обучение автоэнкодера\u001b[39;00m\n\u001b[1;32m----> 2\u001b[0m \u001b[43mtrain_autoencoder\u001b[49m\u001b[43m(\u001b[49m\u001b[43mtransformed_dataset\u001b[49m\u001b[43m,\u001b[49m\u001b[43m \u001b[49m\u001b[43mtrain_batches\u001b[49m\u001b[43m,\u001b[49m\u001b[43m \u001b[49m\u001b[43mmodel\u001b[49m\u001b[38;5;241;43m=\u001b[39;49m\u001b[43mmodel\u001b[49m\u001b[43m,\u001b[49m\u001b[43m \u001b[49m\u001b[43mfirst_epoch\u001b[49m\u001b[38;5;241;43m=\u001b[39;49m\u001b[43mfirst_epoch\u001b[49m\u001b[43m,\u001b[49m\n\u001b[0;32m      3\u001b[0m \u001b[43m                  \u001b[49m\u001b[43mnum_epochs\u001b[49m\u001b[38;5;241;43m=\u001b[39;49m\u001b[38;5;241;43m100\u001b[39;49m\u001b[43m,\u001b[49m\u001b[43m \u001b[49m\u001b[43mlr\u001b[49m\u001b[38;5;241;43m=\u001b[39;49m\u001b[38;5;241;43m0.001\u001b[39;49m\u001b[43m)\u001b[49m\n",
      "File \u001b[1;32mf:\\!Институт МУИВ\\4 курс\\Clagnosco\\autoencoder.py:279\u001b[0m, in \u001b[0;36mtrain_autoencoder\u001b[1;34m(transformed_dataset, train_batches, model, num_epochs, first_epoch, lr)\u001b[0m\n\u001b[0;32m    276\u001b[0m loss_recon\u001b[38;5;241m.\u001b[39mbackward()\n\u001b[0;32m    277\u001b[0m optimizer\u001b[38;5;241m.\u001b[39mstep()\n\u001b[1;32m--> 279\u001b[0m batch_loss \u001b[38;5;241m=\u001b[39m \u001b[43mloss_recon\u001b[49m\u001b[38;5;241;43m.\u001b[39;49m\u001b[43mitem\u001b[49m\u001b[43m(\u001b[49m\u001b[43m)\u001b[49m\n\u001b[0;32m    281\u001b[0m losses\u001b[38;5;241m.\u001b[39mappend(batch_loss)\n\u001b[0;32m    282\u001b[0m loss_log\u001b[38;5;241m.\u001b[39mwrite(\u001b[38;5;124mf\u001b[39m\u001b[38;5;124m\"\u001b[39m\u001b[38;5;132;01m{\u001b[39;00mbatch_loss\u001b[38;5;132;01m:\u001b[39;00m\u001b[38;5;124m.8f\u001b[39m\u001b[38;5;132;01m}\u001b[39;00m\u001b[38;5;130;01m\\n\u001b[39;00m\u001b[38;5;124m\"\u001b[39m)\n",
      "\u001b[1;31mKeyboardInterrupt\u001b[0m: "
     ]
    }
   ],
   "source": [
    "# Обучение автоэнкодера\n",
    "train_autoencoder(transformed_dataset, train_batches, model=model, first_epoch=first_epoch,\n",
    "                  num_epochs=100, lr=0.001)"
   ]
  },
  {
   "cell_type": "code",
   "execution_count": null,
   "id": "21f702a6",
   "metadata": {},
   "outputs": [],
   "source": []
  }
 ],
 "metadata": {
  "kernelspec": {
   "display_name": "xgen",
   "language": "python",
   "name": "python3"
  },
  "language_info": {
   "codemirror_mode": {
    "name": "ipython",
    "version": 3
   },
   "file_extension": ".py",
   "mimetype": "text/x-python",
   "name": "python",
   "nbconvert_exporter": "python",
   "pygments_lexer": "ipython3",
   "version": "3.11.11"
  }
 },
 "nbformat": 4,
 "nbformat_minor": 5
}
