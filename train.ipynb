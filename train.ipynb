{
 "cells": [
  {
   "cell_type": "code",
   "execution_count": null,
   "id": "a6a49bc0",
   "metadata": {},
   "outputs": [],
   "source": [
    "# Импорт библиотек, классов и функций из autoencoder\n",
    "from autoencoder import *\n",
    "\n",
    "# Папка для моделей\n",
    "SAVE_FOLDER = \"models\"\n",
    "\n",
    "# Директория файлов датасета (должны быть подпапки:\n",
    "#       images_resize (минимальная сторона изображений - 192 пикселей) и \n",
    "#       images_square (квадратные изображения 256x256))\n",
    "BASE_DATASET_DIR = r\"C:\\!project-dataset\""
   ]
  },
  {
   "cell_type": "code",
   "execution_count": 2,
   "id": "e8786866",
   "metadata": {},
   "outputs": [],
   "source": [
    "# Датасет для обучения автоэнкодера\n",
    "dataset = ClagnoscoDataset()\n",
    "transformed_dataset = TransformedClagnoscoDataset(dataset)"
   ]
  },
  {
   "cell_type": "code",
   "execution_count": null,
   "id": "2d95ac82",
   "metadata": {},
   "outputs": [
    {
     "name": "stdout",
     "output_type": "stream",
     "text": [
      "Создание новой модели\n"
     ]
    }
   ],
   "source": [
    "# Разбиение на батчи и бакеты\n",
    "train_batches, test_batches = dataset.random_splitting_batching_buckets(batch_size=-1, seed=42)\n",
    "\n",
    "# Создание (или загрузка) модели автоэнкодера\n",
    "model, first_epoch = model_loader(\"create\")\n",
    "model"
   ]
  },
  {
   "cell_type": "code",
   "execution_count": null,
   "id": "bd4179b0",
   "metadata": {},
   "outputs": [
    {
     "name": "stderr",
     "output_type": "stream",
     "text": [
      "Эпоха 1/100: 100%|██████████| 13203/13203 [42:21<00:00,  5.19it/s, потери=0.0872, ср_потери=0.1442] \n"
     ]
    },
    {
     "name": "stdout",
     "output_type": "stream",
     "text": [
      "[Эпоха 1] Средняя ошибка: 0.144238 - Сохранено как autoencoder_2025-06-13_02-42-57_epoch_1.pt\n"
     ]
    },
    {
     "name": "stderr",
     "output_type": "stream",
     "text": [
      "Эпоха 2/100: 100%|██████████| 13203/13203 [40:31<00:00,  5.43it/s, потери=0.0831, ср_потери=0.1286]\n"
     ]
    },
    {
     "name": "stdout",
     "output_type": "stream",
     "text": [
      "[Эпоха 2] Средняя ошибка: 0.128623 - Сохранено как autoencoder_2025-06-13_03-25-23_epoch_2.pt\n"
     ]
    },
    {
     "name": "stderr",
     "output_type": "stream",
     "text": [
      "Эпоха 3/100: 100%|██████████| 13203/13203 [40:39<00:00,  5.41it/s, потери=0.0805, ср_потери=0.1246]\n"
     ]
    },
    {
     "name": "stdout",
     "output_type": "stream",
     "text": [
      "[Эпоха 3] Средняя ошибка: 0.124599 - Сохранено как autoencoder_2025-06-13_04-06-00_epoch_3.pt\n"
     ]
    },
    {
     "name": "stderr",
     "output_type": "stream",
     "text": [
      "Эпоха 4/100: 100%|██████████| 13203/13203 [43:27<00:00,  5.06it/s, потери=0.0780, ср_потери=0.1218] \n"
     ]
    },
    {
     "name": "stdout",
     "output_type": "stream",
     "text": [
      "[Эпоха 4] Средняя ошибка: 0.121798 - Сохранено как autoencoder_2025-06-13_04-46-45_epoch_4.pt\n"
     ]
    },
    {
     "name": "stderr",
     "output_type": "stream",
     "text": [
      "Эпоха 5/100:   6%|▌         | 769/13203 [02:26<40:15,  5.15it/s, потери=0.1060, ср_потери=0.1217]  "
     ]
    }
   ],
   "source": [
    "# Обучение автоэнкодера\n",
    "train_autoencoder(transformed_dataset, train_batches, model=model, first_epoch=first_epoch,\n",
    "                  num_epochs=100, lr=0.001, criterion_type=\"MSE\")"
   ]
  },
  {
   "cell_type": "code",
   "execution_count": null,
   "id": "21f702a6",
   "metadata": {},
   "outputs": [],
   "source": []
  }
 ],
 "metadata": {
  "kernelspec": {
   "display_name": "xgen",
   "language": "python",
   "name": "python3"
  },
  "language_info": {
   "codemirror_mode": {
    "name": "ipython",
    "version": 3
   },
   "file_extension": ".py",
   "mimetype": "text/x-python",
   "name": "python",
   "nbconvert_exporter": "python",
   "pygments_lexer": "ipython3",
   "version": "3.11.11"
  }
 },
 "nbformat": 4,
 "nbformat_minor": 5
}
